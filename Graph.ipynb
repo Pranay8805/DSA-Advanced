{
 "cells": [
  {
   "cell_type": "markdown",
   "id": "0af6c683",
   "metadata": {},
   "source": [
    "# Graph\n",
    "\n",
    "\n",
    "# BFS , DFS"
   ]
  },
  {
   "cell_type": "code",
   "execution_count": 2,
   "id": "7535cc93",
   "metadata": {},
   "outputs": [
    {
     "data": {
      "text/plain": [
       "4"
      ]
     },
     "execution_count": 2,
     "metadata": {},
     "output_type": "execute_result"
    }
   ],
   "source": [
    "l=[1,2,3,4]\n",
    "e=l.pop()\n",
    "e"
   ]
  },
  {
   "cell_type": "code",
   "execution_count": 3,
   "id": "1a8c4a78",
   "metadata": {},
   "outputs": [
    {
     "data": {
      "text/plain": [
       "1"
      ]
     },
     "execution_count": 3,
     "metadata": {},
     "output_type": "execute_result"
    }
   ],
   "source": [
    "l=[1,2,3,4]\n",
    "e=l.pop(0)\n",
    "e"
   ]
  },
  {
   "cell_type": "code",
   "execution_count": 4,
   "id": "1b2af1d9",
   "metadata": {},
   "outputs": [
    {
     "name": "stdout",
     "output_type": "stream",
     "text": [
      "1\n",
      "2\n",
      "3\n",
      "4\n"
     ]
    }
   ],
   "source": [
    "l=[1,2,3,4]\n",
    "while l:\n",
    "    e=l.pop(0)\n",
    "    print(e)"
   ]
  },
  {
   "cell_type": "markdown",
   "id": "d9ff9114",
   "metadata": {},
   "source": [
    "# BFS"
   ]
  },
  {
   "cell_type": "code",
   "execution_count": 17,
   "id": "6a55513f",
   "metadata": {},
   "outputs": [],
   "source": [
    "graph = {\n",
    "    'a':['b', 'c'],\n",
    "    'b':['a', 'g'],\n",
    "    'c':['a', 'd', 'e'],\n",
    "    'd':['c', 'e', 'h'],\n",
    "    'e':['c', 'd'],\n",
    "    'g':['b', 'h'],\n",
    "    'h':['d', 'g'],\n",
    "}"
   ]
  },
  {
   "cell_type": "code",
   "execution_count": 24,
   "id": "fda55101",
   "metadata": {},
   "outputs": [],
   "source": [
    "def BFS(graph, source):\n",
    "    queue= []\n",
    "    visited= []\n",
    "    queue.append(source)\n",
    "    visited.append(source)\n",
    "    while queue:\n",
    "        k=queue.pop(0)\n",
    "        #print(k)\n",
    "        for e in graph[k]:\n",
    "            \n",
    "            if e not in visited:\n",
    "                \n",
    "                queue.append(e)\n",
    "                \n",
    "                visited.append(e)\n",
    "    return visited"
   ]
  },
  {
   "cell_type": "code",
   "execution_count": 25,
   "id": "d10956f9",
   "metadata": {},
   "outputs": [
    {
     "name": "stdout",
     "output_type": "stream",
     "text": [
      "a\n",
      "b\n",
      "c\n",
      "g\n",
      "d\n",
      "e\n",
      "h\n"
     ]
    }
   ],
   "source": [
    "o = BFS(graph, 'a')"
   ]
  },
  {
   "cell_type": "code",
   "execution_count": 20,
   "id": "a1badb6a",
   "metadata": {},
   "outputs": [
    {
     "data": {
      "text/plain": [
       "['a', 'b', 'c', 'g', 'd', 'e', 'h']"
      ]
     },
     "execution_count": 20,
     "metadata": {},
     "output_type": "execute_result"
    }
   ],
   "source": [
    "o"
   ]
  },
  {
   "cell_type": "markdown",
   "id": "aff8d5e9",
   "metadata": {},
   "source": [
    "# DFS"
   ]
  },
  {
   "cell_type": "code",
   "execution_count": 21,
   "id": "4b29affc",
   "metadata": {},
   "outputs": [],
   "source": [
    "def DFS(graph, visited, source):\n",
    "    if source not in visited:\n",
    "        print(source)\n",
    "        \n",
    "        visited.add(source)\n",
    "        for e in graph[source]:\n",
    "            DFS(graph, visited,e)"
   ]
  },
  {
   "cell_type": "code",
   "execution_count": 23,
   "id": "8675d2ea",
   "metadata": {},
   "outputs": [
    {
     "name": "stdout",
     "output_type": "stream",
     "text": [
      "a\n",
      "b\n",
      "g\n",
      "h\n",
      "d\n",
      "c\n",
      "e\n"
     ]
    }
   ],
   "source": [
    "visited= set()\n",
    "o=DFS(graph, visited, 'a')"
   ]
  },
  {
   "cell_type": "code",
   "execution_count": null,
   "id": "5dcfb272",
   "metadata": {},
   "outputs": [],
   "source": []
  }
 ],
 "metadata": {
  "kernelspec": {
   "display_name": "Python 3 (ipykernel)",
   "language": "python",
   "name": "python3"
  },
  "language_info": {
   "codemirror_mode": {
    "name": "ipython",
    "version": 3
   },
   "file_extension": ".py",
   "mimetype": "text/x-python",
   "name": "python",
   "nbconvert_exporter": "python",
   "pygments_lexer": "ipython3",
   "version": "3.10.5"
  }
 },
 "nbformat": 4,
 "nbformat_minor": 5
}
