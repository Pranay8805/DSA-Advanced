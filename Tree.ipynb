{
 "cells": [
  {
   "cell_type": "markdown",
   "id": "870017d4",
   "metadata": {},
   "source": [
    "# Binary search tree\n"
   ]
  },
  {
   "cell_type": "code",
   "execution_count": 4,
   "id": "4769533a",
   "metadata": {},
   "outputs": [],
   "source": [
    "class BST:\n",
    "    def __init__(self,data): #data or key\n",
    "        self.data = data\n",
    "        self.left = None\n",
    "        self.right = None\n",
    "    \n",
    "    def insert(self,data):\n",
    "        if self.data is None:\n",
    "            self.data = data\n",
    "            return\n",
    "        if self.data >= data:#root is found\n",
    "            if self.left:\n",
    "                self.left.insert(data)\n",
    "            else:\n",
    "                self.left = BST(data)\n",
    "        else:\n",
    "            if self.right:\n",
    "                self.right.insert(data)\n",
    "            else:\n",
    "                self.right = BST(data)\n",
    "                \n",
    "                \n",
    "    def inorder_traversal(self):\n",
    "        if self.left:\n",
    "            self.left.inorder_traversal()\n",
    "        print(self.data)\n",
    "        if self.right:\n",
    "            self.right.inorder_traversal()\n",
    "    \n",
    "    def preorder_traversal(self):\n",
    "        print(self.data)\n",
    "        if self.left:\n",
    "            self.left.preorder_traversal()\n",
    "        \n",
    "        if self.right:\n",
    "            self.right.preorder_traversal()\n",
    "    \n",
    "            \n",
    "    def postorder_traversal(self):\n",
    "        \n",
    "        if self.left:\n",
    "            self.left.postorder_traversal()\n",
    "        \n",
    "        if self.right:\n",
    "            self.right.postorder_traversal()\n",
    "        print(self.data)\n",
    "            \n",
    "        "
   ]
  },
  {
   "cell_type": "code",
   "execution_count": 5,
   "id": "6d026f1f",
   "metadata": {},
   "outputs": [],
   "source": [
    "bst = BST(8)"
   ]
  },
  {
   "cell_type": "code",
   "execution_count": 6,
   "id": "ff1fd08f",
   "metadata": {},
   "outputs": [
    {
     "data": {
      "text/plain": [
       "(8, None, None)"
      ]
     },
     "execution_count": 6,
     "metadata": {},
     "output_type": "execute_result"
    }
   ],
   "source": [
    "bst.data, bst.left, bst.right"
   ]
  },
  {
   "cell_type": "code",
   "execution_count": 7,
   "id": "770268bf",
   "metadata": {},
   "outputs": [],
   "source": [
    "l=[7,13,8,10,5,6]"
   ]
  },
  {
   "cell_type": "code",
   "execution_count": 8,
   "id": "4949f7cc",
   "metadata": {},
   "outputs": [
    {
     "data": {
      "text/plain": [
       "[None, None, None, None, None, None]"
      ]
     },
     "execution_count": 8,
     "metadata": {},
     "output_type": "execute_result"
    }
   ],
   "source": [
    "[bst.insert(i)for i in l]"
   ]
  },
  {
   "cell_type": "code",
   "execution_count": 9,
   "id": "30e741d6",
   "metadata": {},
   "outputs": [
    {
     "data": {
      "text/plain": [
       "(8, 7, 13)"
      ]
     },
     "execution_count": 9,
     "metadata": {},
     "output_type": "execute_result"
    }
   ],
   "source": [
    "bst.data, bst.left.data, bst.right.data"
   ]
  },
  {
   "cell_type": "code",
   "execution_count": 10,
   "id": "14812243",
   "metadata": {},
   "outputs": [
    {
     "data": {
      "text/plain": [
       "(7, 5, 8)"
      ]
     },
     "execution_count": 10,
     "metadata": {},
     "output_type": "execute_result"
    }
   ],
   "source": [
    "bst.left.data, bst.left.left.data, bst.left.right.data"
   ]
  },
  {
   "cell_type": "code",
   "execution_count": 11,
   "id": "0df5236e",
   "metadata": {},
   "outputs": [
    {
     "data": {
      "text/plain": [
       "(13, 10, 13)"
      ]
     },
     "execution_count": 11,
     "metadata": {},
     "output_type": "execute_result"
    }
   ],
   "source": [
    "bst.right.data, bst.right.left.data, bst.right.data"
   ]
  },
  {
   "cell_type": "code",
   "execution_count": 12,
   "id": "6c3feac2",
   "metadata": {},
   "outputs": [
    {
     "name": "stdout",
     "output_type": "stream",
     "text": [
      "5\n",
      "6\n",
      "7\n",
      "8\n",
      "8\n",
      "10\n",
      "13\n"
     ]
    }
   ],
   "source": [
    "bst.inorder_traversal()"
   ]
  },
  {
   "cell_type": "code",
   "execution_count": 13,
   "id": "cdbe168d",
   "metadata": {},
   "outputs": [
    {
     "name": "stdout",
     "output_type": "stream",
     "text": [
      "8\n",
      "7\n",
      "5\n",
      "6\n",
      "8\n",
      "13\n",
      "10\n"
     ]
    }
   ],
   "source": [
    "bst.preorder_traversal()"
   ]
  },
  {
   "cell_type": "code",
   "execution_count": 14,
   "id": "1eb632c5",
   "metadata": {},
   "outputs": [
    {
     "name": "stdout",
     "output_type": "stream",
     "text": [
      "6\n",
      "5\n",
      "8\n",
      "7\n",
      "10\n",
      "13\n",
      "8\n"
     ]
    }
   ],
   "source": [
    "bst.postorder_traversal()"
   ]
  },
  {
   "cell_type": "code",
   "execution_count": null,
   "id": "3212ff6b",
   "metadata": {},
   "outputs": [],
   "source": []
  }
 ],
 "metadata": {
  "kernelspec": {
   "display_name": "Python 3 (ipykernel)",
   "language": "python",
   "name": "python3"
  },
  "language_info": {
   "codemirror_mode": {
    "name": "ipython",
    "version": 3
   },
   "file_extension": ".py",
   "mimetype": "text/x-python",
   "name": "python",
   "nbconvert_exporter": "python",
   "pygments_lexer": "ipython3",
   "version": "3.10.5"
  }
 },
 "nbformat": 4,
 "nbformat_minor": 5
}
