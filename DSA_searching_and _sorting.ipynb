{
 "cells": [
  {
   "cell_type": "markdown",
   "id": "e711f5a6",
   "metadata": {},
   "source": [
    "# Searching AND sorting\n"
   ]
  },
  {
   "cell_type": "markdown",
   "id": "eec6b114",
   "metadata": {},
   "source": [
    "# Linear Search"
   ]
  },
  {
   "cell_type": "code",
   "execution_count": 1,
   "id": "e600db30",
   "metadata": {},
   "outputs": [],
   "source": [
    "import random\n",
    "wt_list=[random.randint(30,70) for i in range (10)]"
   ]
  },
  {
   "cell_type": "code",
   "execution_count": 2,
   "id": "4241ad19",
   "metadata": {},
   "outputs": [
    {
     "data": {
      "text/plain": [
       "[35, 67, 47, 43, 44, 60, 63, 50, 37, 70]"
      ]
     },
     "execution_count": 2,
     "metadata": {},
     "output_type": "execute_result"
    }
   ],
   "source": [
    "wt_list"
   ]
  },
  {
   "cell_type": "code",
   "execution_count": 3,
   "id": "b25db0ee",
   "metadata": {},
   "outputs": [
    {
     "data": {
      "text/plain": [
       "516"
      ]
     },
     "execution_count": 3,
     "metadata": {},
     "output_type": "execute_result"
    }
   ],
   "source": [
    "sum(wt_list)"
   ]
  },
  {
   "cell_type": "code",
   "execution_count": 4,
   "id": "93eef530",
   "metadata": {},
   "outputs": [
    {
     "data": {
      "text/plain": [
       "10"
      ]
     },
     "execution_count": 4,
     "metadata": {},
     "output_type": "execute_result"
    }
   ],
   "source": [
    "len(wt_list)"
   ]
  },
  {
   "cell_type": "code",
   "execution_count": 5,
   "id": "fda1af71",
   "metadata": {},
   "outputs": [
    {
     "data": {
      "text/plain": [
       "51.6"
      ]
     },
     "execution_count": 5,
     "metadata": {},
     "output_type": "execute_result"
    }
   ],
   "source": [
    "sum(wt_list)/len(wt_list)"
   ]
  },
  {
   "cell_type": "code",
   "execution_count": 6,
   "id": "4b9f4b30",
   "metadata": {},
   "outputs": [
    {
     "data": {
      "text/plain": [
       "70"
      ]
     },
     "execution_count": 6,
     "metadata": {},
     "output_type": "execute_result"
    }
   ],
   "source": [
    "for w in wt_list:\n",
    "    total_wt=0\n",
    "    total_wt +=w\n",
    "total_wt"
   ]
  },
  {
   "cell_type": "code",
   "execution_count": 7,
   "id": "88e6f1ec",
   "metadata": {},
   "outputs": [],
   "source": [
    "l=[random.randint(30,70)for i in range(100)]"
   ]
  },
  {
   "cell_type": "code",
   "execution_count": 8,
   "id": "aaae96bf",
   "metadata": {},
   "outputs": [
    {
     "data": {
      "text/plain": [
       "[37,\n",
       " 31,\n",
       " 40,\n",
       " 38,\n",
       " 55,\n",
       " 61,\n",
       " 61,\n",
       " 51,\n",
       " 32,\n",
       " 48,\n",
       " 41,\n",
       " 63,\n",
       " 57,\n",
       " 47,\n",
       " 67,\n",
       " 37,\n",
       " 43,\n",
       " 68,\n",
       " 62,\n",
       " 56,\n",
       " 33,\n",
       " 37,\n",
       " 40,\n",
       " 53,\n",
       " 39,\n",
       " 33,\n",
       " 52,\n",
       " 65,\n",
       " 66,\n",
       " 38,\n",
       " 50,\n",
       " 65,\n",
       " 54,\n",
       " 55,\n",
       " 37,\n",
       " 67,\n",
       " 58,\n",
       " 32,\n",
       " 62,\n",
       " 53,\n",
       " 58,\n",
       " 60,\n",
       " 48,\n",
       " 64,\n",
       " 67,\n",
       " 45,\n",
       " 64,\n",
       " 70,\n",
       " 52,\n",
       " 58,\n",
       " 41,\n",
       " 53,\n",
       " 67,\n",
       " 52,\n",
       " 48,\n",
       " 51,\n",
       " 51,\n",
       " 49,\n",
       " 65,\n",
       " 57,\n",
       " 51,\n",
       " 36,\n",
       " 64,\n",
       " 67,\n",
       " 54,\n",
       " 40,\n",
       " 68,\n",
       " 59,\n",
       " 68,\n",
       " 58,\n",
       " 31,\n",
       " 44,\n",
       " 35,\n",
       " 46,\n",
       " 57,\n",
       " 60,\n",
       " 30,\n",
       " 52,\n",
       " 60,\n",
       " 42,\n",
       " 37,\n",
       " 65,\n",
       " 32,\n",
       " 57,\n",
       " 48,\n",
       " 30,\n",
       " 58,\n",
       " 47,\n",
       " 45,\n",
       " 62,\n",
       " 44,\n",
       " 34,\n",
       " 59,\n",
       " 49,\n",
       " 42,\n",
       " 62,\n",
       " 67,\n",
       " 63,\n",
       " 58,\n",
       " 31]"
      ]
     },
     "execution_count": 8,
     "metadata": {},
     "output_type": "execute_result"
    }
   ],
   "source": [
    "l"
   ]
  },
  {
   "cell_type": "code",
   "execution_count": 9,
   "id": "dae3244f",
   "metadata": {},
   "outputs": [
    {
     "name": "stdout",
     "output_type": "stream",
     "text": [
      "no is not present\n",
      "no is not present\n",
      "no is not present\n",
      "no is not present\n",
      "no is not present\n",
      "no is not present\n",
      "no is not present\n",
      "no is not present\n",
      "no is not present\n",
      "no is not present\n",
      "no is not present\n",
      "no is not present\n",
      "no is not present\n",
      "no is not present\n",
      "no is not present\n",
      "no is not present\n",
      "no is not present\n",
      "no is not present\n",
      "no is not present\n",
      "no is not present\n",
      "no is not present\n",
      "no is not present\n",
      "no is not present\n",
      "no is not present\n",
      "no is not present\n",
      "no is not present\n",
      "no is not present\n",
      "no is not present\n",
      "no is not present\n",
      "no is not present\n",
      "no is not present\n",
      "no is not present\n",
      "no is not present\n",
      "no is not present\n",
      "no is not present\n",
      "no is not present\n",
      "no is not present\n",
      "no is not present\n",
      "no is not present\n",
      "no is not present\n",
      "no is not present\n",
      "no is not present\n",
      "no is not present\n",
      "no is not present\n",
      "no is not present\n",
      "no is not present\n",
      "no is not present\n",
      "no is not present\n",
      "no is not present\n",
      "no is not present\n",
      "no is not present\n",
      "no is not present\n",
      "no is not present\n",
      "no is not present\n",
      "no is not present\n",
      "no is not present\n",
      "no is not present\n",
      "no is not present\n",
      "no is not present\n",
      "no is not present\n",
      "no is not present\n",
      "no is not present\n",
      "no is not present\n",
      "no is not present\n",
      "no is not present\n",
      "no is not present\n",
      "no is not present\n",
      "no is not present\n",
      "no is not present\n",
      "no is not present\n",
      "no is not present\n",
      "no is not present\n",
      "no is not present\n",
      "no is not present\n",
      "no is not present\n",
      "no is not present\n",
      "no is not present\n",
      "no is not present\n",
      "no is not present\n",
      "no is present\n",
      "no is not present\n",
      "no is not present\n",
      "no is not present\n",
      "no is not present\n",
      "no is not present\n",
      "no is not present\n",
      "no is not present\n",
      "no is not present\n",
      "no is not present\n",
      "no is not present\n",
      "no is not present\n",
      "no is not present\n",
      "no is not present\n",
      "no is not present\n",
      "no is present\n",
      "no is not present\n",
      "no is not present\n",
      "no is not present\n",
      "no is not present\n",
      "no is not present\n"
     ]
    }
   ],
   "source": [
    "no_to_be_searched=42\n",
    "for i in l:\n",
    "    if i==no_to_be_searched:\n",
    "        print(\"no is present\")\n",
    "    else:\n",
    "        print(\"no is not present\")"
   ]
  },
  {
   "cell_type": "code",
   "execution_count": 10,
   "id": "8451707e",
   "metadata": {},
   "outputs": [],
   "source": [
    "# Drawbacks of above code\n",
    "# Very First Index should be returned.\n",
    "# Execution should be stopped after first index is returned\n",
    "# If element is not present, return -1"
   ]
  },
  {
   "cell_type": "code",
   "execution_count": 11,
   "id": "464d87c1",
   "metadata": {},
   "outputs": [
    {
     "name": "stdout",
     "output_type": "stream",
     "text": [
      "79\n"
     ]
    }
   ],
   "source": [
    "found=0\n",
    "for idx,i in enumerate(l):\n",
    "    if i==no_to_be_searched:\n",
    "        print(l.index(i))\n",
    "        found=1\n",
    "        break\n",
    "    elif idx==len(l)-1 and found==0:\n",
    "        print(-1)"
   ]
  },
  {
   "cell_type": "code",
   "execution_count": 12,
   "id": "3d5a1ccc",
   "metadata": {},
   "outputs": [
    {
     "data": {
      "text/plain": [
       "-1"
      ]
     },
     "execution_count": 12,
     "metadata": {},
     "output_type": "execute_result"
    }
   ],
   "source": [
    "def linear_search(l,n):\n",
    "    for i in l:\n",
    "        if i==n:\n",
    "            return l.index(i)\n",
    "    return -1\n",
    "linear_search(l,81)"
   ]
  },
  {
   "cell_type": "code",
   "execution_count": 13,
   "id": "f1d6b7b1",
   "metadata": {},
   "outputs": [
    {
     "data": {
      "text/plain": [
       "79"
      ]
     },
     "execution_count": 13,
     "metadata": {},
     "output_type": "execute_result"
    }
   ],
   "source": [
    "linear_search(l,42)"
   ]
  },
  {
   "cell_type": "code",
   "execution_count": 14,
   "id": "606eb283",
   "metadata": {},
   "outputs": [],
   "source": [
    "def linear_search(l,n):\n",
    "    for idx, i in enumerate(l):\n",
    "        if i==n:\n",
    "            return idx\n",
    "    return -1"
   ]
  },
  {
   "cell_type": "code",
   "execution_count": 15,
   "id": "879a6b7f",
   "metadata": {},
   "outputs": [
    {
     "data": {
      "text/plain": [
       "-1"
      ]
     },
     "execution_count": 15,
     "metadata": {},
     "output_type": "execute_result"
    }
   ],
   "source": [
    "linear_search(l, 81)"
   ]
  },
  {
   "cell_type": "code",
   "execution_count": 16,
   "id": "f4a9ac47",
   "metadata": {},
   "outputs": [
    {
     "data": {
      "text/plain": [
       "73"
      ]
     },
     "execution_count": 16,
     "metadata": {},
     "output_type": "execute_result"
    }
   ],
   "source": [
    "linear_search(l, 46)"
   ]
  },
  {
   "cell_type": "code",
   "execution_count": 17,
   "id": "b105be23",
   "metadata": {},
   "outputs": [
    {
     "name": "stdout",
     "output_type": "stream",
     "text": [
      "0 10\n",
      "1 2\n",
      "2 1\n",
      "3 14\n"
     ]
    }
   ],
   "source": [
    "l1=[10,2,1,14]\n",
    "for idx, item in enumerate(l1):\n",
    "    print(idx,item)"
   ]
  },
  {
   "cell_type": "code",
   "execution_count": 18,
   "id": "5487303b",
   "metadata": {},
   "outputs": [
    {
     "name": "stdout",
     "output_type": "stream",
     "text": [
      "(0, 10)\n",
      "(1, 2)\n",
      "(2, 1)\n",
      "(3, 14)\n"
     ]
    }
   ],
   "source": [
    "for idx_item in enumerate(l1):\n",
    "    print(idx_item)"
   ]
  },
  {
   "cell_type": "markdown",
   "id": "cf42f1e0",
   "metadata": {},
   "source": [
    "# Binary Search"
   ]
  },
  {
   "cell_type": "code",
   "execution_count": 19,
   "id": "fcc1a727",
   "metadata": {},
   "outputs": [],
   "source": [
    "def binary_search(l,n): #list to  be sorted\n",
    "    start_index = 0\n",
    "    end_index = len(l)-1\n",
    "    while start_index <= end_index:\n",
    "        mid_index = (start_index + end_index)//2\n",
    "        if l[mid_index] == n:\n",
    "            return mid_index\n",
    "        elif l[mid_index] > n:\n",
    "            end_index = mid_index -1\n",
    "        else:\n",
    "            start_index = mid_index +1\n",
    "    return -1\n",
    "            \n",
    "    "
   ]
  },
  {
   "cell_type": "code",
   "execution_count": 20,
   "id": "44524daf",
   "metadata": {},
   "outputs": [],
   "source": [
    "l_sorted=sorted(l)"
   ]
  },
  {
   "cell_type": "code",
   "execution_count": 21,
   "id": "ee8f339d",
   "metadata": {},
   "outputs": [
    {
     "data": {
      "text/plain": [
       "-1"
      ]
     },
     "execution_count": 21,
     "metadata": {},
     "output_type": "execute_result"
    }
   ],
   "source": [
    "binary_search(l_sorted,81)"
   ]
  },
  {
   "cell_type": "code",
   "execution_count": 31,
   "id": "8a0ca2a3",
   "metadata": {},
   "outputs": [
    {
     "data": {
      "text/plain": [
       "27"
      ]
     },
     "execution_count": 31,
     "metadata": {},
     "output_type": "execute_result"
    }
   ],
   "source": [
    "binary_search(l_sorted, 42)"
   ]
  },
  {
   "cell_type": "code",
   "execution_count": 32,
   "id": "67b7356b",
   "metadata": {},
   "outputs": [
    {
     "data": {
      "text/plain": [
       "True"
      ]
     },
     "execution_count": 32,
     "metadata": {},
     "output_type": "execute_result"
    }
   ],
   "source": [
    "42 in l_sorted"
   ]
  },
  {
   "cell_type": "code",
   "execution_count": 33,
   "id": "a55ff7f7",
   "metadata": {},
   "outputs": [],
   "source": [
    "l_large = [random.randint(30,70) for i in range (10000)]\n",
    "l_large_sorted = sorted(l_large)"
   ]
  },
  {
   "cell_type": "code",
   "execution_count": 34,
   "id": "176ccdfa",
   "metadata": {},
   "outputs": [
    {
     "data": {
      "text/plain": [
       "10000"
      ]
     },
     "execution_count": 34,
     "metadata": {},
     "output_type": "execute_result"
    }
   ],
   "source": [
    "len(l_large)"
   ]
  },
  {
   "cell_type": "code",
   "execution_count": 40,
   "id": "d1ac7e16",
   "metadata": {},
   "outputs": [],
   "source": [
    "numbers_to_be_searched = [random.randint(30,70) for i in  range (100)]"
   ]
  },
  {
   "cell_type": "code",
   "execution_count": 41,
   "id": "10dea14b",
   "metadata": {},
   "outputs": [
    {
     "name": "stdout",
     "output_type": "stream",
     "text": [
      "0.0\n"
     ]
    }
   ],
   "source": [
    "import time\n",
    "st_time = time.time()\n",
    "for n in numbers_to_be_searched:\n",
    "    o = linear_search(l_large, n)\n",
    "print(time.time()-st_time)"
   ]
  },
  {
   "cell_type": "code",
   "execution_count": 43,
   "id": "edf4b029",
   "metadata": {},
   "outputs": [
    {
     "name": "stdout",
     "output_type": "stream",
     "text": [
      "0.04131603240966797\n"
     ]
    }
   ],
   "source": [
    "import time\n",
    "st_time = time.time()\n",
    "for n in numbers_to_be_searched:\n",
    "    o = linear_search(l_large_sorted, n)\n",
    "print(time.time()-st_time)"
   ]
  },
  {
   "cell_type": "code",
   "execution_count": 44,
   "id": "883698a8",
   "metadata": {},
   "outputs": [
    {
     "name": "stdout",
     "output_type": "stream",
     "text": [
      "0.0010046958923339844\n"
     ]
    }
   ],
   "source": [
    "import time\n",
    "st_time = time.time()\n",
    "for n in numbers_to_be_searched:\n",
    "    o = binary_search(l_large_sorted, n)\n",
    "print(time.time()-st_time)"
   ]
  },
  {
   "cell_type": "code",
   "execution_count": 45,
   "id": "418b9af4",
   "metadata": {},
   "outputs": [
    {
     "ename": "ValueError",
     "evalue": "80 is not in list",
     "output_type": "error",
     "traceback": [
      "\u001b[1;31m---------------------------------------------------------------------------\u001b[0m",
      "\u001b[1;31mValueError\u001b[0m                                Traceback (most recent call last)",
      "Input \u001b[1;32mIn [45]\u001b[0m, in \u001b[0;36m<cell line: 1>\u001b[1;34m()\u001b[0m\n\u001b[1;32m----> 1\u001b[0m \u001b[43ml\u001b[49m\u001b[38;5;241;43m.\u001b[39;49m\u001b[43mindex\u001b[49m\u001b[43m(\u001b[49m\u001b[38;5;241;43m80\u001b[39;49m\u001b[43m)\u001b[49m\n",
      "\u001b[1;31mValueError\u001b[0m: 80 is not in list"
     ]
    }
   ],
   "source": [
    "l.index(80)"
   ]
  },
  {
   "cell_type": "code",
   "execution_count": 46,
   "id": "a067c0c2",
   "metadata": {},
   "outputs": [
    {
     "data": {
      "text/plain": [
       "79"
      ]
     },
     "execution_count": 46,
     "metadata": {},
     "output_type": "execute_result"
    }
   ],
   "source": [
    "l.index(42)"
   ]
  },
  {
   "cell_type": "code",
   "execution_count": 48,
   "id": "bb2cc4a1",
   "metadata": {},
   "outputs": [
    {
     "data": {
      "text/plain": [
       "[70,\n",
       " 68,\n",
       " 68,\n",
       " 68,\n",
       " 67,\n",
       " 67,\n",
       " 67,\n",
       " 67,\n",
       " 67,\n",
       " 67,\n",
       " 66,\n",
       " 65,\n",
       " 65,\n",
       " 65,\n",
       " 65,\n",
       " 64,\n",
       " 64,\n",
       " 64,\n",
       " 63,\n",
       " 63,\n",
       " 62,\n",
       " 62,\n",
       " 62,\n",
       " 62,\n",
       " 61,\n",
       " 61,\n",
       " 60,\n",
       " 60,\n",
       " 60,\n",
       " 59,\n",
       " 59,\n",
       " 58,\n",
       " 58,\n",
       " 58,\n",
       " 58,\n",
       " 58,\n",
       " 58,\n",
       " 57,\n",
       " 57,\n",
       " 57,\n",
       " 57,\n",
       " 56,\n",
       " 55,\n",
       " 55,\n",
       " 54,\n",
       " 54,\n",
       " 53,\n",
       " 53,\n",
       " 53,\n",
       " 52,\n",
       " 52,\n",
       " 52,\n",
       " 52,\n",
       " 51,\n",
       " 51,\n",
       " 51,\n",
       " 51,\n",
       " 50,\n",
       " 49,\n",
       " 49,\n",
       " 48,\n",
       " 48,\n",
       " 48,\n",
       " 48,\n",
       " 47,\n",
       " 47,\n",
       " 46,\n",
       " 45,\n",
       " 45,\n",
       " 44,\n",
       " 44,\n",
       " 43,\n",
       " 42,\n",
       " 42,\n",
       " 41,\n",
       " 41,\n",
       " 40,\n",
       " 40,\n",
       " 40,\n",
       " 39,\n",
       " 38,\n",
       " 38,\n",
       " 37,\n",
       " 37,\n",
       " 37,\n",
       " 37,\n",
       " 37,\n",
       " 36,\n",
       " 35,\n",
       " 34,\n",
       " 33,\n",
       " 33,\n",
       " 32,\n",
       " 32,\n",
       " 32,\n",
       " 31,\n",
       " 31,\n",
       " 31,\n",
       " 30,\n",
       " 30]"
      ]
     },
     "execution_count": 48,
     "metadata": {},
     "output_type": "execute_result"
    }
   ],
   "source": [
    "sorted(l, reverse = True)"
   ]
  },
  {
   "cell_type": "markdown",
   "id": "40b502bc",
   "metadata": {},
   "source": [
    "# Selection sort"
   ]
  },
  {
   "cell_type": "code",
   "execution_count": 60,
   "id": "8ddef2bb",
   "metadata": {},
   "outputs": [],
   "source": [
    "l = [random.randint(30,70) for i in range (10)]"
   ]
  },
  {
   "cell_type": "code",
   "execution_count": 61,
   "id": "77984b9e",
   "metadata": {},
   "outputs": [
    {
     "data": {
      "text/plain": [
       "[48, 47, 55, 45, 37, 46, 57, 61, 31, 60]"
      ]
     },
     "execution_count": 61,
     "metadata": {},
     "output_type": "execute_result"
    }
   ],
   "source": [
    "l"
   ]
  },
  {
   "cell_type": "code",
   "execution_count": 62,
   "id": "208dec84",
   "metadata": {},
   "outputs": [],
   "source": [
    "def selection_sort(l):\n",
    "    size = len(l)\n",
    "    for idx in range(size):\n",
    "        min_idx = idx\n",
    "        for j in range(idx+1, size):\n",
    "            if l[j] < l[min_idx]:\n",
    "                min_idx = j\n",
    "        l[idx], l[min_idx]= l[min_idx], l[idx]\n",
    "    return l"
   ]
  },
  {
   "cell_type": "code",
   "execution_count": 63,
   "id": "2fa94aa7",
   "metadata": {},
   "outputs": [
    {
     "data": {
      "text/plain": [
       "[48, 47, 55, 45, 37, 46, 57, 61, 31, 60]"
      ]
     },
     "execution_count": 63,
     "metadata": {},
     "output_type": "execute_result"
    }
   ],
   "source": [
    "l"
   ]
  },
  {
   "cell_type": "code",
   "execution_count": 64,
   "id": "5b9f01b3",
   "metadata": {},
   "outputs": [
    {
     "data": {
      "text/plain": [
       "[31, 37, 45, 46, 47, 48, 55, 57, 60, 61]"
      ]
     },
     "execution_count": 64,
     "metadata": {},
     "output_type": "execute_result"
    }
   ],
   "source": [
    "selection_sort(l)"
   ]
  },
  {
   "cell_type": "markdown",
   "id": "7cc7d211",
   "metadata": {},
   "source": [
    "# Recursion"
   ]
  },
  {
   "cell_type": "code",
   "execution_count": null,
   "id": "c4e358fc",
   "metadata": {},
   "outputs": [],
   "source": [
    "# factorial without recursion: fact(n)= n*(n-1)*(n-2)*.....*1"
   ]
  },
  {
   "cell_type": "code",
   "execution_count": 67,
   "id": "edacef20",
   "metadata": {},
   "outputs": [],
   "source": [
    "def fact_without_rec(n):\n",
    "    mul=1\n",
    "    for i in range(2,n+1):\n",
    "        mul=mul*i\n",
    "    return mul"
   ]
  },
  {
   "cell_type": "code",
   "execution_count": 69,
   "id": "c7d91538",
   "metadata": {},
   "outputs": [
    {
     "data": {
      "text/plain": [
       "5040"
      ]
     },
     "execution_count": 69,
     "metadata": {},
     "output_type": "execute_result"
    }
   ],
   "source": [
    "fact_without_rec(7)"
   ]
  },
  {
   "cell_type": "code",
   "execution_count": 74,
   "id": "f9437f91",
   "metadata": {},
   "outputs": [],
   "source": [
    "def fact_without_rec(n):\n",
    "    mul=1\n",
    "    while n>1:\n",
    "        mul=mul*n\n",
    "        n=n-1\n",
    "        #mul*=n\n",
    "        #n-=1\n",
    "    return mul\n",
    "    "
   ]
  },
  {
   "cell_type": "code",
   "execution_count": 75,
   "id": "8eee09a3",
   "metadata": {},
   "outputs": [
    {
     "data": {
      "text/plain": [
       "120"
      ]
     },
     "execution_count": 75,
     "metadata": {},
     "output_type": "execute_result"
    }
   ],
   "source": [
    "fact_without_rec(5)"
   ]
  },
  {
   "cell_type": "code",
   "execution_count": 76,
   "id": "3c21c515",
   "metadata": {},
   "outputs": [
    {
     "data": {
      "text/plain": [
       "24"
      ]
     },
     "execution_count": 76,
     "metadata": {},
     "output_type": "execute_result"
    }
   ],
   "source": [
    "fact_without_rec(4)"
   ]
  },
  {
   "cell_type": "code",
   "execution_count": null,
   "id": "f36a0294",
   "metadata": {},
   "outputs": [],
   "source": [
    "# factorial wit recursion:fact(n)=n*fact(n-1)"
   ]
  },
  {
   "cell_type": "code",
   "execution_count": 77,
   "id": "82739419",
   "metadata": {},
   "outputs": [],
   "source": [
    "def fact_with_rec(n):\n",
    "    if n<=1:\n",
    "        return 1\n",
    "    else:\n",
    "        return n* fact_with_rec(n-1)"
   ]
  },
  {
   "cell_type": "code",
   "execution_count": 79,
   "id": "fde3c6ad",
   "metadata": {},
   "outputs": [
    {
     "data": {
      "text/plain": [
       "720"
      ]
     },
     "execution_count": 79,
     "metadata": {},
     "output_type": "execute_result"
    }
   ],
   "source": [
    "fact_with_rec(6)"
   ]
  },
  {
   "cell_type": "markdown",
   "id": "3158444b",
   "metadata": {},
   "source": [
    "# Merge sort"
   ]
  },
  {
   "cell_type": "code",
   "execution_count": 101,
   "id": "4287c850",
   "metadata": {},
   "outputs": [],
   "source": [
    "def merge(left_array, right_array):\n",
    "  sorted_array = []\n",
    "  size_left_array = len(left_array)\n",
    "  size_right_array = len(right_array)\n",
    "  i = 0\n",
    "  j = 0\n",
    "\n",
    "  while i < size_left_array and j < size_right_array:\n",
    "    if left_array[i] < right_array[j]:\n",
    "      sorted_array.append(left_array[i])\n",
    "      i += 1\n",
    "    else:\n",
    "      sorted_array.append(right_array[j])\n",
    "      j += 1\n",
    "  if i < size_left_array:\n",
    "    sorted_array.extend(left_array[i:])\n",
    "  if j < size_right_array:\n",
    "    sorted_array.extend(right_array[j:])\n",
    "\n",
    "  return sorted_array\n"
   ]
  },
  {
   "cell_type": "code",
   "execution_count": 102,
   "id": "d070754b",
   "metadata": {},
   "outputs": [],
   "source": [
    "def merge_sort(l):\n",
    "  if len(l) <= 1:\n",
    "    return l \n",
    "  left_array = l[:len(l)//2]\n",
    "  right_array = l[len(l)//2:] \n",
    "  left_array = merge_sort(left_array)\n",
    "  right_array = merge_sort(right_array)\n",
    "  return merge(left_array, right_array)"
   ]
  },
  {
   "cell_type": "code",
   "execution_count": 103,
   "id": "4e9fe103",
   "metadata": {},
   "outputs": [
    {
     "data": {
      "text/plain": [
       "[1, 2, 3, 5, 6, 8, 9, 21, 32, 73]"
      ]
     },
     "execution_count": 103,
     "metadata": {},
     "output_type": "execute_result"
    }
   ],
   "source": [
    "merge_sort([6, 5, 8, 9, 32, 21, 73, 3, 2, 1])"
   ]
  },
  {
   "cell_type": "markdown",
   "id": "ac38d1f6",
   "metadata": {},
   "source": [
    "# Quick sort"
   ]
  },
  {
   "cell_type": "code",
   "execution_count": 1,
   "id": "f1fc3318",
   "metadata": {},
   "outputs": [],
   "source": [
    "def partition(l,s,e):\n",
    "    i = s\n",
    "    j = e-1\n",
    "    pivot = l[e]\n",
    "    \n",
    "    while i < j:\n",
    "        while i < e and l[i] < pivot:\n",
    "            i += 1\n",
    "        while j > s and l[j] >pivot:\n",
    "            j -= 1\n",
    "        if i < j:\n",
    "            l[i], l[j] = l[j], l[i]\n",
    "    if l[i] > pivot:\n",
    "        l[i], l[e] = l[e], l[i]\n",
    "    return i"
   ]
  },
  {
   "cell_type": "code",
   "execution_count": 2,
   "id": "c4bb73cf",
   "metadata": {},
   "outputs": [
    {
     "data": {
      "text/plain": [
       "1"
      ]
     },
     "execution_count": 2,
     "metadata": {},
     "output_type": "execute_result"
    }
   ],
   "source": [
    "l = [2,9,8,6,5]\n",
    "partition(l,0,len(l)-1)"
   ]
  },
  {
   "cell_type": "code",
   "execution_count": 3,
   "id": "2a07ea76",
   "metadata": {},
   "outputs": [],
   "source": [
    "def quick_sort(l,li,ri):\n",
    "    if li<ri:\n",
    "        position = partition(l,li,ri)\n",
    "        quick_sort(l,li,position-1)\n",
    "        quick_sort(l,position+1,ri)\n",
    "        return l"
   ]
  },
  {
   "cell_type": "code",
   "execution_count": 7,
   "id": "5992a195",
   "metadata": {},
   "outputs": [
    {
     "data": {
      "text/plain": [
       "[2, 5, 6, 8, 9, 9, 21, 30, 32, 90]"
      ]
     },
     "execution_count": 7,
     "metadata": {},
     "output_type": "execute_result"
    }
   ],
   "source": [
    "l=[2,9,8,6,5,90,32,9,30,21]\n",
    "quick_sort(l,0,len(l)-1)\n"
   ]
  },
  {
   "cell_type": "markdown",
   "id": "6e56a0cd",
   "metadata": {},
   "source": [
    "# Bubble sort"
   ]
  },
  {
   "cell_type": "code",
   "execution_count": 9,
   "id": "7eb8686b",
   "metadata": {},
   "outputs": [],
   "source": [
    "import random\n",
    "l1=[random.randint(10,80) for i in range(10)]"
   ]
  },
  {
   "cell_type": "code",
   "execution_count": 10,
   "id": "7f4129b7",
   "metadata": {},
   "outputs": [
    {
     "data": {
      "text/plain": [
       "[77, 79, 54, 12, 53, 55, 22, 32, 52, 74]"
      ]
     },
     "execution_count": 10,
     "metadata": {},
     "output_type": "execute_result"
    }
   ],
   "source": [
    "l1"
   ]
  },
  {
   "cell_type": "code",
   "execution_count": 11,
   "id": "63d0f6b1",
   "metadata": {},
   "outputs": [],
   "source": [
    "def bubble_sort(l):\n",
    "    size = len(l)\n",
    "    for i in range(size-1):\n",
    "        for j in range(0, size-i-1):\n",
    "            if l[j] > l[j+1]:\n",
    "                l[j], l[j+1] = l[j+1],l[j]\n",
    "    return l"
   ]
  },
  {
   "cell_type": "code",
   "execution_count": 12,
   "id": "f9859d9b",
   "metadata": {},
   "outputs": [],
   "source": [
    "l_new = bubble_sort(l1)"
   ]
  },
  {
   "cell_type": "code",
   "execution_count": 13,
   "id": "6b490132",
   "metadata": {},
   "outputs": [
    {
     "data": {
      "text/plain": [
       "[12, 22, 32, 52, 53, 54, 55, 74, 77, 79]"
      ]
     },
     "execution_count": 13,
     "metadata": {},
     "output_type": "execute_result"
    }
   ],
   "source": [
    "l_new"
   ]
  },
  {
   "cell_type": "code",
   "execution_count": 14,
   "id": "b8bd92cc",
   "metadata": {},
   "outputs": [],
   "source": [
    "def bubble_sort_with_swap(l):\n",
    "    size =len(l)\n",
    "    for i in range(size-1):\n",
    "        swap = 0\n",
    "        for j in range(0,size-i-1):\n",
    "            if l[j] > l[j+1]:\n",
    "                swap = 1\n",
    "                l[j], l[j+1] = l[j+1], l[j]\n",
    "        if not swap:\n",
    "            return l\n",
    "    return l"
   ]
  },
  {
   "cell_type": "code",
   "execution_count": 15,
   "id": "eafb00df",
   "metadata": {},
   "outputs": [
    {
     "data": {
      "text/plain": [
       "[1, 2, 3, 4, 5]"
      ]
     },
     "execution_count": 15,
     "metadata": {},
     "output_type": "execute_result"
    }
   ],
   "source": [
    "bubble_sort_with_swap([1,2,3,4,5])"
   ]
  },
  {
   "cell_type": "code",
   "execution_count": 16,
   "id": "fbb74a4d",
   "metadata": {},
   "outputs": [
    {
     "data": {
      "text/plain": [
       "[2, 3, 5, 6, 8, 21, 100]"
      ]
     },
     "execution_count": 16,
     "metadata": {},
     "output_type": "execute_result"
    }
   ],
   "source": [
    "bubble_sort_with_swap([100,21,3,2,8,6,5])"
   ]
  },
  {
   "cell_type": "markdown",
   "id": "68cc7e7a",
   "metadata": {},
   "source": [
    "# Insertion sort"
   ]
  },
  {
   "cell_type": "code",
   "execution_count": 27,
   "id": "f63755cd",
   "metadata": {},
   "outputs": [],
   "source": [
    "def insertion_sort(l):\n",
    "    size = len(l)\n",
    "    for i in range(1, size):\n",
    "        look_for = l[i]\n",
    "        j=i-1\n",
    "        while j >= 0:\n",
    "            if l[j] > look_for:\n",
    "                l[j], l[j+1] = l[j+1], l[j]\n",
    "            else:\n",
    "                break\n",
    "            j -= 1\n",
    "    return l\n",
    "                \n",
    "            "
   ]
  },
  {
   "cell_type": "code",
   "execution_count": 28,
   "id": "7dacec6b",
   "metadata": {},
   "outputs": [
    {
     "data": {
      "text/plain": [
       "[3, 4, 5, 21, 50, 90, 100, 110, 120]"
      ]
     },
     "execution_count": 28,
     "metadata": {},
     "output_type": "execute_result"
    }
   ],
   "source": [
    "insertion_sort([120,110,90,100,21,5,50,4,3])"
   ]
  },
  {
   "cell_type": "markdown",
   "id": "3a2f6b88",
   "metadata": {},
   "source": [
    "# Bucket sort"
   ]
  },
  {
   "cell_type": "code",
   "execution_count": 30,
   "id": "27dee1f5",
   "metadata": {},
   "outputs": [],
   "source": [
    "def bucket_sort(l, number_of_buckets):\n",
    "    bucket = []\n",
    "    for i in range (number_of_buckets):\n",
    "        bucket.append([])\n",
    "    for i in l:\n",
    "        bucket_number = int(i*number_of_buckets)\n",
    "        bucket[bucket_number].append(i)\n",
    "    for b_index, b in enumerate(bucket):\n",
    "        bucket[b_index] = insertion_sort(b)\n",
    "    k=0\n",
    "    for i in range(number_of_buckets):\n",
    "        for j in range(len(bucket[i])):\n",
    "            l[k] = bucket[i][j]\n",
    "            k += 1\n",
    "    return l"
   ]
  },
  {
   "cell_type": "code",
   "execution_count": 34,
   "id": "f95e5835",
   "metadata": {},
   "outputs": [],
   "source": [
    "l = [.78, .17, .39, .26, .72, .94, .21, .12]"
   ]
  },
  {
   "cell_type": "code",
   "execution_count": 35,
   "id": "7f77c119",
   "metadata": {},
   "outputs": [
    {
     "data": {
      "text/plain": [
       "[0.12, 0.17, 0.21, 0.26, 0.39, 0.72, 0.78, 0.94]"
      ]
     },
     "execution_count": 35,
     "metadata": {},
     "output_type": "execute_result"
    }
   ],
   "source": [
    "bucket_sort(l, 10)"
   ]
  },
  {
   "cell_type": "code",
   "execution_count": 36,
   "id": "14e3b439",
   "metadata": {},
   "outputs": [
    {
     "data": {
      "text/plain": [
       "[0.12, 0.17, 0.21, 0.26, 0.39, 0.72, 0.78, 0.94]"
      ]
     },
     "execution_count": 36,
     "metadata": {},
     "output_type": "execute_result"
    }
   ],
   "source": [
    "bucket_sort(l, 10)"
   ]
  },
  {
   "cell_type": "code",
   "execution_count": null,
   "id": "1eed0c97",
   "metadata": {},
   "outputs": [],
   "source": []
  }
 ],
 "metadata": {
  "kernelspec": {
   "display_name": "Python 3 (ipykernel)",
   "language": "python",
   "name": "python3"
  },
  "language_info": {
   "codemirror_mode": {
    "name": "ipython",
    "version": 3
   },
   "file_extension": ".py",
   "mimetype": "text/x-python",
   "name": "python",
   "nbconvert_exporter": "python",
   "pygments_lexer": "ipython3",
   "version": "3.10.5"
  }
 },
 "nbformat": 4,
 "nbformat_minor": 5
}
